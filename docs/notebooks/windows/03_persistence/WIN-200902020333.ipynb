{
 "cells": [
  {
   "cell_type": "markdown",
   "metadata": {},
   "source": [
    "# Remote WMI ActiveScriptEventConsumers"
   ]
  },
  {
   "cell_type": "markdown",
   "metadata": {},
   "source": [
    "## Metadata"
   ]
  },
  {
   "cell_type": "markdown",
   "metadata": {},
   "source": [
    "\n",
    "|                   |    |\n",
    "|:------------------|:---|\n",
    "| collaborators     | ['@Cyb3rWard0g', '@Cyb3rPandaH'] |\n",
    "| creation date     | 2020/09/02 |\n",
    "| modification date | 2020/09/20 |\n",
    "| playbook related  | [] |"
   ]
  },
  {
   "cell_type": "markdown",
   "metadata": {},
   "source": [
    "## Hypothesis\n",
    "Adversaries might be leveraging WMI ActiveScriptEventConsumers remotely to move laterally in my network."
   ]
  },
  {
   "cell_type": "markdown",
   "metadata": {},
   "source": [
    "## Technical Context\n",
    "One of the components of an Event subscription is the event consumer. It is basically the main action that gets executed when a filter triggers (i.e. monitor for authentication events. if one occurs. trigger the consumer).\n",
    "\n",
    "According to [MS Documentation](https://docs.microsoft.com/en-us/windows/win32/wmisdk/standard-consumer-classes), there are several WMI consumer classes available\n",
    "\n",
    "* ActiveScriptEventConsumer -> Executes a predefined script in an arbitrary scripting language when an event is delivered to it. Example -> [Running a Script Based on an Event](https://docs.microsoft.com/en-us/windows/win32/wmisdk/running-a-script-based-on-an-event)\n",
    "* CommandLineEventConsumer -> Launches an arbitrary process in the local system context when an event is delivered to it. Example -> [Running a Program from the Command Line Based on an Event](https://docs.microsoft.com/en-us/windows/win32/wmisdk/running-a-program-from-the-command-line-based-on-an-event)\n",
    "* LogFileEventConsumer -> Writes customized strings to a text log file when events are delivered to it. Example -> [Writing to a Log File Based on an Event](https://docs.microsoft.com/en-us/windows/win32/wmisdk/writing-to-a-log-file-based-on-an-event)\n",
    "* NTEventLogEventConsumer -> Logs a specific Message to the Windows event log when an event is delivered to it. Example -> [Logging to NT Event Log Based on an Event](https://docs.microsoft.com/en-us/windows/win32/wmisdk/logging-to-nt-event-log-based-on-an-event)\n",
    "* ScriptingStandardConsumerSetting \tProvides registration data common to all instances of the ActiveScriptEventConsumer class.\n",
    "* SMTPEventConsumer \tSends an email Message using SMTP each time an event is delivered to it. Example -> [Sending Email Based on an Event](https://docs.microsoft.com/en-us/windows/win32/wmisdk/sending-e-mail-based-on-an-event)\n",
    "\n",
    "The ActiveScriptEventConsumer class allows for the execution of scripting code from either JScript or VBScript engines. Finally, the WMI script host process is `%SystemRoot%\\system32\\wbem\\scrcons.exe`."
   ]
  },
  {
   "cell_type": "markdown",
   "metadata": {},
   "source": [
    "## Offensive Tradecraft\n",
    "Threat actors can achieve remote code execution by using WMI event subscriptions. Normally, a permanent WMI event subscription is designed to persist and respond to certain events.\n",
    "According to [Matt Graeber](https://twitter.com/mattifestation), if an attacker wanted to execute a single payload however, the respective event consumer would just need to delete its corresponding event filter, consumer, and filter to consumer binding.\n",
    "The advantage of this technique is that the payload runs as SYSTEM, and it avoids having a payload be displayed in plaintext in the presence of command line auditing."
   ]
  },
  {
   "cell_type": "markdown",
   "metadata": {},
   "source": [
    "## Mordor Test Data"
   ]
  },
  {
   "cell_type": "markdown",
   "metadata": {},
   "source": [
    "\n",
    "|           |           |\n",
    "|:----------|:----------|\n",
    "| metadata  | https://mordordatasets.com/notebooks/small/windows/08_lateral_movement/SDWIN-200724174200.html        |\n",
    "| link      | [https://raw.githubusercontent.com/OTRF/mordor/master/datasets/small/windows/lateral_movement/host/covenant_wmi_remote_event_subscription_ActiveScriptEventConsumers.zip](https://raw.githubusercontent.com/OTRF/mordor/master/datasets/small/windows/lateral_movement/host/covenant_wmi_remote_event_subscription_ActiveScriptEventConsumers.zip)  |"
   ]
  },
  {
   "cell_type": "markdown",
   "metadata": {},
   "source": [
    "## Analytics"
   ]
  },
  {
   "cell_type": "markdown",
   "metadata": {},
   "source": [
    "### Initialize Analytics Engine"
   ]
  },
  {
   "cell_type": "code",
   "execution_count": null,
   "metadata": {},
   "outputs": [],
   "source": [
    "from openhunt.mordorutils import *\n",
    "spark = get_spark()"
   ]
  },
  {
   "cell_type": "markdown",
   "metadata": {},
   "source": [
    "### Download & Process Mordor Dataset"
   ]
  },
  {
   "cell_type": "code",
   "execution_count": null,
   "metadata": {},
   "outputs": [],
   "source": [
    "mordor_file = \"https://raw.githubusercontent.com/OTRF/mordor/master/datasets/small/windows/lateral_movement/host/covenant_wmi_remote_event_subscription_ActiveScriptEventConsumers.zip\"\n",
    "registerMordorSQLTable(spark, mordor_file, \"mordorTable\")"
   ]
  },
  {
   "cell_type": "markdown",
   "metadata": {},
   "source": [
    "### Analytic I\n",
    "Look for the creation of Event consumers of script type."
   ]
  },
  {
   "cell_type": "markdown",
   "metadata": {},
   "source": [
    "\n",
    "| Data source | Event Provider | Relationship | Event |\n",
    "|:------------|:---------------|--------------|-------|\n",
    "| WMI object | Microsoft-Windows-Sysmon/Operational | User created Wmi consumer | 20 |"
   ]
  },
  {
   "cell_type": "code",
   "execution_count": null,
   "metadata": {},
   "outputs": [],
   "source": [
    "df = spark.sql(\n",
    "'''\n",
    "SELECT EventID, EventType\n",
    "FROM mordorTable\n",
    "WHERE Channel = 'Microsoft-Windows-Sysmon/Operational'\n",
    "  AND EventID = 20\n",
    "  AND LOWER(Message) Like '%type: script%'\n",
    "'''\n",
    ")\n",
    "df.show(10,False)"
   ]
  },
  {
   "cell_type": "markdown",
   "metadata": {},
   "source": [
    "### Analytic II\n",
    "Look for the creation of Event consumers of script type (i.e vbscript)."
   ]
  },
  {
   "cell_type": "markdown",
   "metadata": {},
   "source": [
    "\n",
    "| Data source | Event Provider | Relationship | Event |\n",
    "|:------------|:---------------|--------------|-------|\n",
    "| WMI object | Microsoft-Windows-WMI-Activity/Operational | Wmi subscription created | 5861 |"
   ]
  },
  {
   "cell_type": "code",
   "execution_count": null,
   "metadata": {},
   "outputs": [],
   "source": [
    "df = spark.sql(\n",
    "'''\n",
    "SELECT EventID, SourceName\n",
    "FROM mordorTable\n",
    "WHERE Channel = 'Microsoft-Windows-WMI-Activity/Operational'\n",
    "  AND EventID = 5861\n",
    "  AND LOWER(Message) LIKE '%scriptingengine = \"vbscript\"%'\n",
    "'''\n",
    ")\n",
    "df.show(10,False)"
   ]
  },
  {
   "cell_type": "markdown",
   "metadata": {},
   "source": [
    "### Analytic III\n",
    "Look for any indicators that the WMI script host process %SystemRoot%\\system32\\wbem\\scrcons.exe is created. This is created by svchost.exe."
   ]
  },
  {
   "cell_type": "markdown",
   "metadata": {},
   "source": [
    "\n",
    "| Data source | Event Provider | Relationship | Event |\n",
    "|:------------|:---------------|--------------|-------|\n",
    "| Process | Microsoft-Windows-Sysmon/Operational | Process created Process | 1 |"
   ]
  },
  {
   "cell_type": "code",
   "execution_count": null,
   "metadata": {},
   "outputs": [],
   "source": [
    "df = spark.sql(\n",
    "'''\n",
    "SELECT ParentImage, Image, CommandLine, ProcessId, ProcessGuid\n",
    "FROM mordorTable\n",
    "WHERE Channel = \"Microsoft-Windows-Sysmon/Operational\"\n",
    "    AND EventID = 1\n",
    "    AND Image LIKE '%scrcons%'\n",
    "'''\n",
    ")\n",
    "df.show(10,False)"
   ]
  },
  {
   "cell_type": "markdown",
   "metadata": {},
   "source": [
    "### Analytic IV\n",
    "Look for any indicators that the WMI script host process %SystemRoot%\\system32\\wbem\\scrcons.exe is created. This is created by svchost.exe."
   ]
  },
  {
   "cell_type": "markdown",
   "metadata": {},
   "source": [
    "\n",
    "| Data source | Event Provider | Relationship | Event |\n",
    "|:------------|:---------------|--------------|-------|\n",
    "| Process | Microsoft-Windows-Security-Auditing | Process created Process | 4688 |"
   ]
  },
  {
   "cell_type": "code",
   "execution_count": null,
   "metadata": {},
   "outputs": [],
   "source": [
    "df = spark.sql(\n",
    "'''\n",
    "SELECT ParentProcessName, NewProcessName, CommandLine, NewProcessId\n",
    "FROM mordorTable\n",
    "WHERE LOWER(Channel) = \"security\"\n",
    "    AND EventID = 4688\n",
    "    AND NewProcessName LIKE '%scrcons%'\n",
    "'''\n",
    ")\n",
    "df.show(10,False)"
   ]
  },
  {
   "cell_type": "markdown",
   "metadata": {},
   "source": [
    "### Analytic V\n",
    "Look for any indicators that the WMI script host process %SystemRoot%\\system32\\wbem\\scrcons.exe is being used. You can do this by looking for a few modules being loaded by a process."
   ]
  },
  {
   "cell_type": "markdown",
   "metadata": {},
   "source": [
    "\n",
    "| Data source | Event Provider | Relationship | Event |\n",
    "|:------------|:---------------|--------------|-------|\n",
    "| Module | Microsoft-Windows-Sysmon/Operational | Process loaded Dll | 7 |"
   ]
  },
  {
   "cell_type": "code",
   "execution_count": null,
   "metadata": {},
   "outputs": [],
   "source": [
    "df = spark.sql(\n",
    "'''\n",
    "SELECT Image, ImageLoaded, Description, ProcessGuid\n",
    "FROM mordorTable\n",
    "WHERE Channel = \"Microsoft-Windows-Sysmon/Operational\"\n",
    "    AND EventID = 7\n",
    "    AND LOWER(ImageLoaded) IN (\n",
    "        'c:\\\\\\windows\\\\\\system32\\\\\\wbem\\\\\\scrcons.exe',\n",
    "        'c:\\\\\\windows\\\\\\system32\\\\\\\\vbscript.dll',\n",
    "        'c:\\\\\\windows\\\\\\system32\\\\\\wbem\\\\\\wbemdisp.dll',\n",
    "        'c:\\\\\\windows\\\\\\system32\\\\\\wshom.ocx',\n",
    "        'c:\\\\\\windows\\\\\\system32\\\\\\scrrun.dll'\n",
    "    )\n",
    "'''\n",
    ")\n",
    "df.show(10,False)"
   ]
  },
  {
   "cell_type": "markdown",
   "metadata": {},
   "source": [
    "### Analytic VI\n",
    "Look for any indicators that the WMI script host process %SystemRoot%\\system32\\wbem\\scrcons.exe is being used and add some context to it that might not be normal in your environment. You can add network connections context to look for any scrcons.exe reaching out to external hosts over the network."
   ]
  },
  {
   "cell_type": "markdown",
   "metadata": {},
   "source": [
    "\n",
    "| Data source | Event Provider | Relationship | Event |\n",
    "|:------------|:---------------|--------------|-------|\n",
    "| Process | Microsoft-Windows-Sysmon/Operational | Process created Process | 1 |\n",
    "| Process | Microsoft-Windows-Sysmon/Operational | Process connected to Ip | 3 |\n",
    "| Module | Microsoft-Windows-Sysmon/Operational | Process loaded Dll | 7 |"
   ]
  },
  {
   "cell_type": "code",
   "execution_count": null,
   "metadata": {},
   "outputs": [],
   "source": [
    "df = spark.sql(\n",
    "'''\n",
    "SELECT d.`@timestamp`, c.Image, d.DestinationIp, d.ProcessId\n",
    "FROM mordorTable d\n",
    "INNER JOIN (\n",
    "    SELECT b.ImageLoaded, a.CommandLine, b.ProcessGuid, a.Image\n",
    "    FROM mordorTable b\n",
    "    INNER JOIN (\n",
    "        SELECT ProcessGuid, CommandLine, Image\n",
    "        FROM mordorTable\n",
    "        WHERE Channel = \"Microsoft-Windows-Sysmon/Operational\"\n",
    "            AND EventID = 1\n",
    "            AND Image LIKE '%scrcons.exe'\n",
    "        ) a\n",
    "    ON b.ProcessGuid = a.ProcessGuid\n",
    "    WHERE b.Channel = \"Microsoft-Windows-Sysmon/Operational\"\n",
    "        AND b.EventID = 7\n",
    "        AND LOWER(b.ImageLoaded) IN (\n",
    "            'c:\\\\\\windows\\\\\\system32\\\\\\wbem\\\\\\scrcons.exe',\n",
    "            'c:\\\\\\windows\\\\\\system32\\\\\\\\vbscript.dll',\n",
    "            'c:\\\\\\windows\\\\\\system32\\\\\\wbem\\\\\\wbemdisp.dll',\n",
    "            'c:\\\\\\windows\\\\\\system32\\\\\\wshom.ocx',\n",
    "            'c:\\\\\\windows\\\\\\system32\\\\\\scrrun.dll'\n",
    "        )\n",
    ") c\n",
    "ON d.ProcessGuid = c.ProcessGuid\n",
    "WHERE d.Channel = \"Microsoft-Windows-Sysmon/Operational\"\n",
    "    AND d.EventID = 3\n",
    "'''\n",
    ")\n",
    "df.show(10,False)"
   ]
  },
  {
   "cell_type": "markdown",
   "metadata": {},
   "source": [
    "### Analytic VII\n",
    "One of the main goals is to find context that could tell us that scrcons.exe was used over the network (Lateral Movement). One way would be to add a network logon session as context to some of the previous events."
   ]
  },
  {
   "cell_type": "markdown",
   "metadata": {},
   "source": [
    "\n",
    "| Data source | Event Provider | Relationship | Event |\n",
    "|:------------|:---------------|--------------|-------|\n",
    "| Process | Microsoft-Windows-Sysmon/Operational | Process created Process | 1 |\n",
    "| Module | Microsoft-Windows-Sysmon/Operational | Process loaded Dll | 7 |\n",
    "| Authentication log | Microsoft-Windows-Security-Auditing | User authenticated Host | 4624 |"
   ]
  },
  {
   "cell_type": "code",
   "execution_count": null,
   "metadata": {},
   "outputs": [],
   "source": [
    "df = spark.sql(\n",
    "'''\n",
    "SELECT d.`@timestamp`, d.TargetUserName, c.Image, c.ProcessId\n",
    "FROM mordorTable d\n",
    "INNER JOIN (\n",
    "    SELECT b.ImageLoaded, a.CommandLine, b.ProcessGuid, a.Image, b.ProcessId\n",
    "    FROM mordorTable b\n",
    "    INNER JOIN (\n",
    "        SELECT ProcessGuid, CommandLine, Image\n",
    "        FROM mordorTable\n",
    "        WHERE Channel = \"Microsoft-Windows-Sysmon/Operational\"\n",
    "            AND EventID = 1\n",
    "            AND Image LIKE '%scrcons.exe'\n",
    "        ) a\n",
    "    ON b.ProcessGuid = a.ProcessGuid\n",
    "    WHERE b.Channel = \"Microsoft-Windows-Sysmon/Operational\"\n",
    "        AND b.EventID = 7\n",
    "        AND LOWER(b.ImageLoaded) IN (\n",
    "            'c:\\\\\\windows\\\\\\system32\\\\\\wbem\\\\\\scrcons.exe',\n",
    "            'c:\\\\\\windows\\\\\\system32\\\\\\\\vbscript.dll',\n",
    "            'c:\\\\\\windows\\\\\\system32\\\\\\wbem\\\\\\wbemdisp.dll',\n",
    "            'c:\\\\\\windows\\\\\\system32\\\\\\wshom.ocx',\n",
    "            'c:\\\\\\windows\\\\\\system32\\\\\\scrrun.dll'\n",
    "        )\n",
    ") c\n",
    "ON split(d.ProcessId, '0x')[1] = LOWER(hex(CAST(c.ProcessId as INT)))\n",
    "WHERE LOWER(d.Channel) = \"security\"\n",
    "    AND d.EventID = 4624\n",
    "    AND d.LogonType = 3\n",
    "'''\n",
    ")\n",
    "df.show(10,False)"
   ]
  },
  {
   "cell_type": "markdown",
   "metadata": {},
   "source": [
    "### Analytic VIII\n",
    "One of the main goals is to find context that could tell us that scrcons.exe was used over the network (Lateral Movement). One way would be to add a network logon session as context to some of the previous events."
   ]
  },
  {
   "cell_type": "markdown",
   "metadata": {},
   "source": [
    "\n",
    "| Data source | Event Provider | Relationship | Event |\n",
    "|:------------|:---------------|--------------|-------|\n",
    "| Authentication log | Microsoft-Windows-Security-Auditing | User authenticated Host | 4624 |"
   ]
  },
  {
   "cell_type": "code",
   "execution_count": null,
   "metadata": {},
   "outputs": [],
   "source": [
    "df = spark.sql(\n",
    "'''\n",
    "SELECT `@timestamp`, TargetUserName,ImpersonationLevel, LogonType, ProcessName\n",
    "FROM mordorTable\n",
    "WHERE LOWER(Channel) = \"security\"\n",
    "    AND EventID = 4624\n",
    "    AND LogonType = 3\n",
    "    AND ProcessName LIKE '%scrcons.exe'\n",
    "'''\n",
    ")\n",
    "df.show(10,False)"
   ]
  },
  {
   "cell_type": "markdown",
   "metadata": {},
   "source": [
    "## Known Bypasses"
   ]
  },
  {
   "cell_type": "markdown",
   "metadata": {},
   "source": [
    "\n",
    "| Idea | Playbook |\n",
    "|:-----|:---------|"
   ]
  },
  {
   "cell_type": "markdown",
   "metadata": {},
   "source": [
    "## False Positives\n",
    "None"
   ]
  },
  {
   "cell_type": "markdown",
   "metadata": {},
   "source": [
    "## Hunter Notes\n",
    "* Baseline your environment to identify normal activity. Apparently, SCCM leverages WMI event subscriptions."
   ]
  },
  {
   "cell_type": "markdown",
   "metadata": {},
   "source": [
    "## Hunt Output\n",
    "\n",
    "| Type | Link |\n",
    "| :----| :----|\n",
    "| Sigma Rule | [https://github.com/OTRF/ThreatHunter-Playbook/blob/master/signatures/sigma/win_scrcons_remote_wmi_scripteventconsumer.yml](https://github.com/OTRF/ThreatHunter-Playbook/blob/master/signatures/sigma/win_scrcons_remote_wmi_scripteventconsumer.yml) |"
   ]
  },
  {
   "cell_type": "markdown",
   "metadata": {},
   "source": [
    "## References\n",
    "* https://www.mdsec.co.uk/2020/09/i-like-to-move-it-windows-lateral-movement-part-1-wmi-event-subscription/\n",
    "* https://www.fireeye.com/content/dam/fireeye-www/services/pdfs/sans-dfir-2015.pdf\n",
    "* https://www.blackhat.com/docs/us-15/materials/us-15-Graeber-Abusing-Windows-Management-Instrumentation-WMI-To-Build-A-Persistent%20Asynchronous-And-Fileless-Backdoor-wp.pdf\n",
    "* https://docs.microsoft.com/en-us/windows/win32/wmisdk/scriptingstandardconsumersetting\n",
    "* https://docs.microsoft.com/en-us/windows/win32/wmisdk/standard-consumer-classes\n",
    "* https://docs.microsoft.com/en-us/windows/win32/wmisdk/running-a-script-based-on-an-event"
   ]
  }
 ],
 "metadata": {
  "kernelspec": {
   "display_name": "PySpark_Python3",
   "language": "python",
   "name": "pyspark3"
  },
  "language_info": {
   "codemirror_mode": {
    "name": "ipython",
    "version": 3
   },
   "file_extension": ".py",
   "mimetype": "text/x-python",
   "name": "python",
   "nbconvert_exporter": "python",
   "pygments_lexer": "ipython3",
   "version": "3.7.3"
  }
 },
 "nbformat": 4,
 "nbformat_minor": 4
}

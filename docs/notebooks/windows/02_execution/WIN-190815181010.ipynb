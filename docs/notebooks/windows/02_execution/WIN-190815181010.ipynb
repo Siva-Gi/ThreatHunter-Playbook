{
 "cells": [
  {
   "cell_type": "markdown",
   "metadata": {},
   "source": [
    "# Remote Service creation"
   ]
  },
  {
   "cell_type": "markdown",
   "metadata": {},
   "source": [
    "## Metadata"
   ]
  },
  {
   "cell_type": "markdown",
   "metadata": {},
   "source": [
    "\n",
    "|                   |    |\n",
    "|:------------------|:---|\n",
    "| collaborators     | ['@Cyb3rWard0g', '@Cyb3rPandaH'] |\n",
    "| creation date     | 2019/08/15 |\n",
    "| modification date | 2020/09/20 |\n",
    "| playbook related  | ['WIN-190813181020'] |"
   ]
  },
  {
   "cell_type": "markdown",
   "metadata": {},
   "source": [
    "## Hypothesis\n",
    "Adversaries might be creating new services remotely to execute code and move laterally in my environment"
   ]
  },
  {
   "cell_type": "markdown",
   "metadata": {},
   "source": [
    "## Technical Context\n",
    "None"
   ]
  },
  {
   "cell_type": "markdown",
   "metadata": {},
   "source": [
    "## Offensive Tradecraft\n",
    "Adversaries may execute a binary, command, or script via a method that interacts with Windows services, such as the Service Control Manager. This can be done by by adversaries creating a new service.\n",
    "Adversaries can create services remotely to execute code and move lateraly across the environment."
   ]
  },
  {
   "cell_type": "markdown",
   "metadata": {},
   "source": [
    "## Mordor Test Data"
   ]
  },
  {
   "cell_type": "markdown",
   "metadata": {},
   "source": [
    "\n",
    "|           |           |\n",
    "|:----------|:----------|\n",
    "| metadata  | https://mordordatasets.com/notebooks/small/windows/08_lateral_movement/SDWIN-190518210652.html        |\n",
    "| link      | [https://raw.githubusercontent.com/OTRF/mordor/master/datasets/small/windows/lateral_movement/host/empire_psexec_dcerpc_tcp_svcctl.zip](https://raw.githubusercontent.com/OTRF/mordor/master/datasets/small/windows/lateral_movement/host/empire_psexec_dcerpc_tcp_svcctl.zip)  |"
   ]
  },
  {
   "cell_type": "markdown",
   "metadata": {},
   "source": [
    "## Analytics"
   ]
  },
  {
   "cell_type": "markdown",
   "metadata": {},
   "source": [
    "### Initialize Analytics Engine"
   ]
  },
  {
   "cell_type": "code",
   "execution_count": null,
   "metadata": {},
   "outputs": [],
   "source": [
    "from openhunt.mordorutils import *\n",
    "spark = get_spark()"
   ]
  },
  {
   "cell_type": "markdown",
   "metadata": {},
   "source": [
    "### Download & Process Mordor Dataset"
   ]
  },
  {
   "cell_type": "code",
   "execution_count": null,
   "metadata": {},
   "outputs": [],
   "source": [
    "mordor_file = \"https://raw.githubusercontent.com/OTRF/mordor/master/datasets/small/windows/lateral_movement/host/empire_psexec_dcerpc_tcp_svcctl.zip\"\n",
    "registerMordorSQLTable(spark, mordor_file, \"mordorTable\")"
   ]
  },
  {
   "cell_type": "markdown",
   "metadata": {},
   "source": [
    "### Analytic I\n",
    "Look for new services being created in your environment under a network logon session (3). That is a sign that the service creation was performed from another endpoint in the environment"
   ]
  },
  {
   "cell_type": "markdown",
   "metadata": {},
   "source": [
    "\n",
    "| Data source | Event Provider | Relationship | Event |\n",
    "|:------------|:---------------|--------------|-------|\n",
    "| Service | Microsoft-Windows-Security-Auditing | User created Service | 4697 |\n",
    "| Authentication log | Microsoft-Windows-Security-Auditing | User authenticated Host | 4624 |"
   ]
  },
  {
   "cell_type": "code",
   "execution_count": null,
   "metadata": {},
   "outputs": [],
   "source": [
    "df = spark.sql(\n",
    "'''\n",
    "SELECT o.`@timestamp`, o.Hostname, o.SubjectUserName, o.SubjectUserName, o.ServiceName, a.IpAddress\n",
    "FROM mordorTable o\n",
    "INNER JOIN (\n",
    "    SELECT Hostname,TargetUserName,TargetLogonId,IpAddress\n",
    "    FROM mordorTable\n",
    "    WHERE LOWER(Channel) = \"security\"\n",
    "        AND EventID = 4624\n",
    "        AND LogonType = 3            \n",
    "        AND NOT TargetUserName LIKE \"%$\"\n",
    "    ) a\n",
    "ON o.SubjectLogonId = a.TargetLogonId\n",
    "WHERE LOWER(o.Channel) = \"security\"\n",
    "    AND o.EventID = 4697\n",
    "'''\n",
    ")\n",
    "df.show(10,False)"
   ]
  },
  {
   "cell_type": "markdown",
   "metadata": {},
   "source": [
    "## Known Bypasses"
   ]
  },
  {
   "cell_type": "markdown",
   "metadata": {},
   "source": [
    "\n",
    "| Idea | Playbook |\n",
    "|:-----|:---------|"
   ]
  },
  {
   "cell_type": "markdown",
   "metadata": {},
   "source": [
    "## False Positives\n",
    "None"
   ]
  },
  {
   "cell_type": "markdown",
   "metadata": {},
   "source": [
    "## Hunter Notes\n",
    "* If there are a lot of unique services being created in your environment, try to categorize the data based on the bussiness unit.\n",
    "* Identify the source of unique services being created everyday. I have seen Microsoft applications doing this.\n",
    "* Stack the values of the service file name associated with the new service.\n",
    "* Document what users create new services across your environment on a daily basis"
   ]
  },
  {
   "cell_type": "markdown",
   "metadata": {},
   "source": [
    "## Hunt Output\n",
    "\n",
    "| Type | Link |\n",
    "| :----| :----|"
   ]
  },
  {
   "cell_type": "markdown",
   "metadata": {},
   "source": [
    "## References\n",
    "* https://www.powershellempire.com/?page_id=523"
   ]
  }
 ],
 "metadata": {
  "kernelspec": {
   "display_name": "PySpark_Python3",
   "language": "python",
   "name": "pyspark3"
  },
  "language_info": {
   "codemirror_mode": {
    "name": "ipython",
    "version": 3
   },
   "file_extension": ".py",
   "mimetype": "text/x-python",
   "name": "python",
   "nbconvert_exporter": "python",
   "pygments_lexer": "ipython3",
   "version": "3.7.3"
  }
 },
 "nbformat": 4,
 "nbformat_minor": 4
}
